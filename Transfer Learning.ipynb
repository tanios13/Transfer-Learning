{
 "cells": [
  {
   "cell_type": "markdown",
   "id": "749b0075",
   "metadata": {},
   "source": [
    "# Transfer Learning"
   ]
  },
  {
   "cell_type": "markdown",
   "id": "6ad34bc9",
   "metadata": {},
   "source": [
    "This project explores transfer learning, a common use case in deep learning. We'll download a pre-trained model using the \"Finetuning torchvision models\" tutorial from the PyTorch website (https://pytorch.org/tutorials/beginner/finetuning_torchvision_models_tutorial.html) and adapt it to the Oxford-IIIT Pet Dataset (https://www.robots.ox.ac.uk/~vgg/data/pets/)."
   ]
  },
  {
   "cell_type": "code",
   "execution_count": null,
   "id": "8f680392",
   "metadata": {},
   "outputs": [],
   "source": []
  }
 ],
 "metadata": {
  "kernelspec": {
   "display_name": "Python 3 (ipykernel)",
   "language": "python",
   "name": "python3"
  },
  "language_info": {
   "codemirror_mode": {
    "name": "ipython",
    "version": 3
   },
   "file_extension": ".py",
   "mimetype": "text/x-python",
   "name": "python",
   "nbconvert_exporter": "python",
   "pygments_lexer": "ipython3",
   "version": "3.8.12"
  }
 },
 "nbformat": 4,
 "nbformat_minor": 5
}
